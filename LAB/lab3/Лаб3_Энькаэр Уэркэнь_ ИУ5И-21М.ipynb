{
 "cells": [
  {
   "cell_type": "markdown",
   "metadata": {
    "id": "KIU1TSyeI-dp"
   },
   "source": [
    "# **Лаб3_Энькаэр Уэркэнь_ ИУ5И-21М**\n",
    "\n",
    "# **Задание**\n",
    "\n",
    "1. Выбрать один или несколько наборов данных (датасетов) для решения следующих задач. Каждая задача может быть решена на отдельном датасете, или несколько задач могут быть решены на одном датасете. Просьба не использовать датасет, на котором данная задача решалась в лекции.\n",
    "2. Для выбранного датасета (датасетов) на основе материалов лекций решить следующие задачи:\n",
    "\n",
    "  * масштабирование признаков (не менее чем тремя способами);\n",
    "  * обработку выбросов для числовых признаков (по одному способу для удаления выбросов и для замены выбросов);\n",
    "  * обработку по крайней мере одного нестандартного признака (который не является числовым или категориальным);\n",
    "  * отбор признаков:\n",
    "    * один метод из группы методов фильтрации (filter methods);\n",
    "    * один метод из группы методов обертывания (wrapper methods);\n",
    "    * один метод из группы методов вложений (embedded methods).\n",
    "\n",
    "# **Ход работы**"
   ]
  },
  {
   "cell_type": "code",
   "execution_count": 45,
   "metadata": {
    "id": "ecRDV_6FJjVQ"
   },
   "outputs": [],
   "source": [
    "import pandas as pd\n",
    "import numpy as np\n",
    "from sklearn.preprocessing import MinMaxScaler, StandardScaler, RobustScaler\n",
    "from sklearn.linear_model import LassoCV, LogisticRegression\n",
    "from sklearn.feature_selection import RFE, SelectKBest, f_classif\n",
    "import matplotlib.pyplot as plt\n",
    "import seaborn as sns\n",
    "from scipy import stats"
   ]
  },
  {
   "cell_type": "code",
   "execution_count": 46,
   "metadata": {
    "colab": {
     "base_uri": "https://localhost:8080/",
     "height": 342
    },
    "id": "JMxw6dO-JmS-",
    "outputId": "8e5503a4-e772-467e-e8de-7bbed4154201"
   },
   "outputs": [
    {
     "data": {
      "application/vnd.google.colaboratory.intrinsic+json": {
       "type": "dataframe",
       "variable_name": "df"
      },
      "text/html": [
       "\n",
       "  <div id=\"df-e44303e1-1f94-458a-966e-f5583ada293e\" class=\"colab-df-container\">\n",
       "    <div>\n",
       "<style scoped>\n",
       "    .dataframe tbody tr th:only-of-type {\n",
       "        vertical-align: middle;\n",
       "    }\n",
       "\n",
       "    .dataframe tbody tr th {\n",
       "        vertical-align: top;\n",
       "    }\n",
       "\n",
       "    .dataframe thead th {\n",
       "        text-align: right;\n",
       "    }\n",
       "</style>\n",
       "<table border=\"1\" class=\"dataframe\">\n",
       "  <thead>\n",
       "    <tr style=\"text-align: right;\">\n",
       "      <th></th>\n",
       "      <th>No</th>\n",
       "      <th>Plot</th>\n",
       "      <th>Subplot</th>\n",
       "      <th>Species</th>\n",
       "      <th>Light_ISF</th>\n",
       "      <th>Light_Cat</th>\n",
       "      <th>Core</th>\n",
       "      <th>Soil</th>\n",
       "      <th>Adult</th>\n",
       "      <th>Sterile</th>\n",
       "      <th>...</th>\n",
       "      <th>AMF</th>\n",
       "      <th>EMF</th>\n",
       "      <th>Phenolics</th>\n",
       "      <th>Lignin</th>\n",
       "      <th>NSC</th>\n",
       "      <th>Census</th>\n",
       "      <th>Time</th>\n",
       "      <th>Event</th>\n",
       "      <th>Harvest</th>\n",
       "      <th>Alive</th>\n",
       "    </tr>\n",
       "  </thead>\n",
       "  <tbody>\n",
       "    <tr>\n",
       "      <th>0</th>\n",
       "      <td>126</td>\n",
       "      <td>1</td>\n",
       "      <td>C</td>\n",
       "      <td>Acer saccharum</td>\n",
       "      <td>0.106</td>\n",
       "      <td>Med</td>\n",
       "      <td>2017</td>\n",
       "      <td>Prunus serotina</td>\n",
       "      <td>I</td>\n",
       "      <td>Non-Sterile</td>\n",
       "      <td>...</td>\n",
       "      <td>22.00</td>\n",
       "      <td>NaN</td>\n",
       "      <td>-0.56</td>\n",
       "      <td>13.86</td>\n",
       "      <td>12.15</td>\n",
       "      <td>4</td>\n",
       "      <td>14.0</td>\n",
       "      <td>1.0</td>\n",
       "      <td>NaN</td>\n",
       "      <td>NaN</td>\n",
       "    </tr>\n",
       "    <tr>\n",
       "      <th>1</th>\n",
       "      <td>11</td>\n",
       "      <td>1</td>\n",
       "      <td>C</td>\n",
       "      <td>Quercus alba</td>\n",
       "      <td>0.106</td>\n",
       "      <td>Med</td>\n",
       "      <td>2017</td>\n",
       "      <td>Quercus rubra</td>\n",
       "      <td>970</td>\n",
       "      <td>Non-Sterile</td>\n",
       "      <td>...</td>\n",
       "      <td>15.82</td>\n",
       "      <td>31.07</td>\n",
       "      <td>5.19</td>\n",
       "      <td>20.52</td>\n",
       "      <td>19.29</td>\n",
       "      <td>33</td>\n",
       "      <td>115.5</td>\n",
       "      <td>0.0</td>\n",
       "      <td>NaN</td>\n",
       "      <td>X</td>\n",
       "    </tr>\n",
       "    <tr>\n",
       "      <th>2</th>\n",
       "      <td>12</td>\n",
       "      <td>1</td>\n",
       "      <td>C</td>\n",
       "      <td>Quercus rubra</td>\n",
       "      <td>0.106</td>\n",
       "      <td>Med</td>\n",
       "      <td>2017</td>\n",
       "      <td>Prunus serotina</td>\n",
       "      <td>J</td>\n",
       "      <td>Non-Sterile</td>\n",
       "      <td>...</td>\n",
       "      <td>24.45</td>\n",
       "      <td>28.19</td>\n",
       "      <td>3.36</td>\n",
       "      <td>24.74</td>\n",
       "      <td>15.01</td>\n",
       "      <td>18</td>\n",
       "      <td>63.0</td>\n",
       "      <td>1.0</td>\n",
       "      <td>NaN</td>\n",
       "      <td>NaN</td>\n",
       "    </tr>\n",
       "    <tr>\n",
       "      <th>3</th>\n",
       "      <td>2823</td>\n",
       "      <td>7</td>\n",
       "      <td>D</td>\n",
       "      <td>Acer saccharum</td>\n",
       "      <td>0.080</td>\n",
       "      <td>Med</td>\n",
       "      <td>2016</td>\n",
       "      <td>Prunus serotina</td>\n",
       "      <td>J</td>\n",
       "      <td>Non-Sterile</td>\n",
       "      <td>...</td>\n",
       "      <td>22.23</td>\n",
       "      <td>NaN</td>\n",
       "      <td>-0.71</td>\n",
       "      <td>14.29</td>\n",
       "      <td>12.36</td>\n",
       "      <td>4</td>\n",
       "      <td>14.0</td>\n",
       "      <td>1.0</td>\n",
       "      <td>NaN</td>\n",
       "      <td>NaN</td>\n",
       "    </tr>\n",
       "    <tr>\n",
       "      <th>4</th>\n",
       "      <td>5679</td>\n",
       "      <td>14</td>\n",
       "      <td>A</td>\n",
       "      <td>Acer saccharum</td>\n",
       "      <td>0.060</td>\n",
       "      <td>Low</td>\n",
       "      <td>2017</td>\n",
       "      <td>Prunus serotina</td>\n",
       "      <td>689</td>\n",
       "      <td>Non-Sterile</td>\n",
       "      <td>...</td>\n",
       "      <td>21.15</td>\n",
       "      <td>NaN</td>\n",
       "      <td>-0.58</td>\n",
       "      <td>10.85</td>\n",
       "      <td>11.20</td>\n",
       "      <td>4</td>\n",
       "      <td>14.0</td>\n",
       "      <td>1.0</td>\n",
       "      <td>NaN</td>\n",
       "      <td>NaN</td>\n",
       "    </tr>\n",
       "  </tbody>\n",
       "</table>\n",
       "<p>5 rows × 24 columns</p>\n",
       "</div>\n",
       "    <div class=\"colab-df-buttons\">\n",
       "\n",
       "  <div class=\"colab-df-container\">\n",
       "    <button class=\"colab-df-convert\" onclick=\"convertToInteractive('df-e44303e1-1f94-458a-966e-f5583ada293e')\"\n",
       "            title=\"Convert this dataframe to an interactive table.\"\n",
       "            style=\"display:none;\">\n",
       "\n",
       "  <svg xmlns=\"http://www.w3.org/2000/svg\" height=\"24px\" viewBox=\"0 -960 960 960\">\n",
       "    <path d=\"M120-120v-720h720v720H120Zm60-500h600v-160H180v160Zm220 220h160v-160H400v160Zm0 220h160v-160H400v160ZM180-400h160v-160H180v160Zm440 0h160v-160H620v160ZM180-180h160v-160H180v160Zm440 0h160v-160H620v160Z\"/>\n",
       "  </svg>\n",
       "    </button>\n",
       "\n",
       "  <style>\n",
       "    .colab-df-container {\n",
       "      display:flex;\n",
       "      gap: 12px;\n",
       "    }\n",
       "\n",
       "    .colab-df-convert {\n",
       "      background-color: #E8F0FE;\n",
       "      border: none;\n",
       "      border-radius: 50%;\n",
       "      cursor: pointer;\n",
       "      display: none;\n",
       "      fill: #1967D2;\n",
       "      height: 32px;\n",
       "      padding: 0 0 0 0;\n",
       "      width: 32px;\n",
       "    }\n",
       "\n",
       "    .colab-df-convert:hover {\n",
       "      background-color: #E2EBFA;\n",
       "      box-shadow: 0px 1px 2px rgba(60, 64, 67, 0.3), 0px 1px 3px 1px rgba(60, 64, 67, 0.15);\n",
       "      fill: #174EA6;\n",
       "    }\n",
       "\n",
       "    .colab-df-buttons div {\n",
       "      margin-bottom: 4px;\n",
       "    }\n",
       "\n",
       "    [theme=dark] .colab-df-convert {\n",
       "      background-color: #3B4455;\n",
       "      fill: #D2E3FC;\n",
       "    }\n",
       "\n",
       "    [theme=dark] .colab-df-convert:hover {\n",
       "      background-color: #434B5C;\n",
       "      box-shadow: 0px 1px 3px 1px rgba(0, 0, 0, 0.15);\n",
       "      filter: drop-shadow(0px 1px 2px rgba(0, 0, 0, 0.3));\n",
       "      fill: #FFFFFF;\n",
       "    }\n",
       "  </style>\n",
       "\n",
       "    <script>\n",
       "      const buttonEl =\n",
       "        document.querySelector('#df-e44303e1-1f94-458a-966e-f5583ada293e button.colab-df-convert');\n",
       "      buttonEl.style.display =\n",
       "        google.colab.kernel.accessAllowed ? 'block' : 'none';\n",
       "\n",
       "      async function convertToInteractive(key) {\n",
       "        const element = document.querySelector('#df-e44303e1-1f94-458a-966e-f5583ada293e');\n",
       "        const dataTable =\n",
       "          await google.colab.kernel.invokeFunction('convertToInteractive',\n",
       "                                                    [key], {});\n",
       "        if (!dataTable) return;\n",
       "\n",
       "        const docLinkHtml = 'Like what you see? Visit the ' +\n",
       "          '<a target=\"_blank\" href=https://colab.research.google.com/notebooks/data_table.ipynb>data table notebook</a>'\n",
       "          + ' to learn more about interactive tables.';\n",
       "        element.innerHTML = '';\n",
       "        dataTable['output_type'] = 'display_data';\n",
       "        await google.colab.output.renderOutput(dataTable, element);\n",
       "        const docLink = document.createElement('div');\n",
       "        docLink.innerHTML = docLinkHtml;\n",
       "        element.appendChild(docLink);\n",
       "      }\n",
       "    </script>\n",
       "  </div>\n",
       "\n",
       "\n",
       "<div id=\"df-371dfb38-ef69-4009-8936-b814990565bb\">\n",
       "  <button class=\"colab-df-quickchart\" onclick=\"quickchart('df-371dfb38-ef69-4009-8936-b814990565bb')\"\n",
       "            title=\"Suggest charts\"\n",
       "            style=\"display:none;\">\n",
       "\n",
       "<svg xmlns=\"http://www.w3.org/2000/svg\" height=\"24px\"viewBox=\"0 0 24 24\"\n",
       "     width=\"24px\">\n",
       "    <g>\n",
       "        <path d=\"M19 3H5c-1.1 0-2 .9-2 2v14c0 1.1.9 2 2 2h14c1.1 0 2-.9 2-2V5c0-1.1-.9-2-2-2zM9 17H7v-7h2v7zm4 0h-2V7h2v10zm4 0h-2v-4h2v4z\"/>\n",
       "    </g>\n",
       "</svg>\n",
       "  </button>\n",
       "\n",
       "<style>\n",
       "  .colab-df-quickchart {\n",
       "      --bg-color: #E8F0FE;\n",
       "      --fill-color: #1967D2;\n",
       "      --hover-bg-color: #E2EBFA;\n",
       "      --hover-fill-color: #174EA6;\n",
       "      --disabled-fill-color: #AAA;\n",
       "      --disabled-bg-color: #DDD;\n",
       "  }\n",
       "\n",
       "  [theme=dark] .colab-df-quickchart {\n",
       "      --bg-color: #3B4455;\n",
       "      --fill-color: #D2E3FC;\n",
       "      --hover-bg-color: #434B5C;\n",
       "      --hover-fill-color: #FFFFFF;\n",
       "      --disabled-bg-color: #3B4455;\n",
       "      --disabled-fill-color: #666;\n",
       "  }\n",
       "\n",
       "  .colab-df-quickchart {\n",
       "    background-color: var(--bg-color);\n",
       "    border: none;\n",
       "    border-radius: 50%;\n",
       "    cursor: pointer;\n",
       "    display: none;\n",
       "    fill: var(--fill-color);\n",
       "    height: 32px;\n",
       "    padding: 0;\n",
       "    width: 32px;\n",
       "  }\n",
       "\n",
       "  .colab-df-quickchart:hover {\n",
       "    background-color: var(--hover-bg-color);\n",
       "    box-shadow: 0 1px 2px rgba(60, 64, 67, 0.3), 0 1px 3px 1px rgba(60, 64, 67, 0.15);\n",
       "    fill: var(--button-hover-fill-color);\n",
       "  }\n",
       "\n",
       "  .colab-df-quickchart-complete:disabled,\n",
       "  .colab-df-quickchart-complete:disabled:hover {\n",
       "    background-color: var(--disabled-bg-color);\n",
       "    fill: var(--disabled-fill-color);\n",
       "    box-shadow: none;\n",
       "  }\n",
       "\n",
       "  .colab-df-spinner {\n",
       "    border: 2px solid var(--fill-color);\n",
       "    border-color: transparent;\n",
       "    border-bottom-color: var(--fill-color);\n",
       "    animation:\n",
       "      spin 1s steps(1) infinite;\n",
       "  }\n",
       "\n",
       "  @keyframes spin {\n",
       "    0% {\n",
       "      border-color: transparent;\n",
       "      border-bottom-color: var(--fill-color);\n",
       "      border-left-color: var(--fill-color);\n",
       "    }\n",
       "    20% {\n",
       "      border-color: transparent;\n",
       "      border-left-color: var(--fill-color);\n",
       "      border-top-color: var(--fill-color);\n",
       "    }\n",
       "    30% {\n",
       "      border-color: transparent;\n",
       "      border-left-color: var(--fill-color);\n",
       "      border-top-color: var(--fill-color);\n",
       "      border-right-color: var(--fill-color);\n",
       "    }\n",
       "    40% {\n",
       "      border-color: transparent;\n",
       "      border-right-color: var(--fill-color);\n",
       "      border-top-color: var(--fill-color);\n",
       "    }\n",
       "    60% {\n",
       "      border-color: transparent;\n",
       "      border-right-color: var(--fill-color);\n",
       "    }\n",
       "    80% {\n",
       "      border-color: transparent;\n",
       "      border-right-color: var(--fill-color);\n",
       "      border-bottom-color: var(--fill-color);\n",
       "    }\n",
       "    90% {\n",
       "      border-color: transparent;\n",
       "      border-bottom-color: var(--fill-color);\n",
       "    }\n",
       "  }\n",
       "</style>\n",
       "\n",
       "  <script>\n",
       "    async function quickchart(key) {\n",
       "      const quickchartButtonEl =\n",
       "        document.querySelector('#' + key + ' button');\n",
       "      quickchartButtonEl.disabled = true;  // To prevent multiple clicks.\n",
       "      quickchartButtonEl.classList.add('colab-df-spinner');\n",
       "      try {\n",
       "        const charts = await google.colab.kernel.invokeFunction(\n",
       "            'suggestCharts', [key], {});\n",
       "      } catch (error) {\n",
       "        console.error('Error during call to suggestCharts:', error);\n",
       "      }\n",
       "      quickchartButtonEl.classList.remove('colab-df-spinner');\n",
       "      quickchartButtonEl.classList.add('colab-df-quickchart-complete');\n",
       "    }\n",
       "    (() => {\n",
       "      let quickchartButtonEl =\n",
       "        document.querySelector('#df-371dfb38-ef69-4009-8936-b814990565bb button');\n",
       "      quickchartButtonEl.style.display =\n",
       "        google.colab.kernel.accessAllowed ? 'block' : 'none';\n",
       "    })();\n",
       "  </script>\n",
       "</div>\n",
       "    </div>\n",
       "  </div>\n"
      ],
      "text/plain": [
       "     No  Plot Subplot         Species  Light_ISF Light_Cat  Core  \\\n",
       "0   126     1       C  Acer saccharum      0.106       Med  2017   \n",
       "1    11     1       C    Quercus alba      0.106       Med  2017   \n",
       "2    12     1       C   Quercus rubra      0.106       Med  2017   \n",
       "3  2823     7       D  Acer saccharum      0.080       Med  2016   \n",
       "4  5679    14       A  Acer saccharum      0.060       Low  2017   \n",
       "\n",
       "              Soil Adult      Sterile  ...    AMF    EMF Phenolics Lignin  \\\n",
       "0  Prunus serotina     I  Non-Sterile  ...  22.00    NaN     -0.56  13.86   \n",
       "1    Quercus rubra   970  Non-Sterile  ...  15.82  31.07      5.19  20.52   \n",
       "2  Prunus serotina     J  Non-Sterile  ...  24.45  28.19      3.36  24.74   \n",
       "3  Prunus serotina     J  Non-Sterile  ...  22.23    NaN     -0.71  14.29   \n",
       "4  Prunus serotina   689  Non-Sterile  ...  21.15    NaN     -0.58  10.85   \n",
       "\n",
       "     NSC  Census   Time  Event  Harvest  Alive  \n",
       "0  12.15       4   14.0    1.0      NaN    NaN  \n",
       "1  19.29      33  115.5    0.0      NaN      X  \n",
       "2  15.01      18   63.0    1.0      NaN    NaN  \n",
       "3  12.36       4   14.0    1.0      NaN    NaN  \n",
       "4  11.20       4   14.0    1.0      NaN    NaN  \n",
       "\n",
       "[5 rows x 24 columns]"
      ]
     },
     "execution_count": 46,
     "metadata": {},
     "output_type": "execute_result"
    }
   ],
   "source": [
    "# Загрузка датасета\n",
    "df = pd.read_csv(\"Tree_Data.csv\")\n",
    "df.head()"
   ]
  },
  {
   "cell_type": "markdown",
   "metadata": {
    "id": "0vYhGQaLKoJn"
   },
   "source": [
    "# --- Обработка пропусков ---"
   ]
  },
  {
   "cell_type": "code",
   "execution_count": 47,
   "metadata": {
    "colab": {
     "base_uri": "https://localhost:8080/"
    },
    "id": "I_jHZBMFPsAi",
    "outputId": "403616e2-ce75-4c63-eaff-f046c1bd79e7"
   },
   "outputs": [
    {
     "name": "stdout",
     "output_type": "stream",
     "text": [
      "Текущие пропуски:\n",
      "EMF        1500\n",
      "Event         1\n",
      "Harvest    2079\n",
      "Alive      2292\n",
      "dtype: int64\n"
     ]
    }
   ],
   "source": [
    "print(\"Текущие пропуски:\")\n",
    "print(df.isnull().sum()[df.isnull().sum() > 0])"
   ]
  },
  {
   "cell_type": "code",
   "execution_count": 48,
   "metadata": {
    "id": "f17eLXwmKtFN"
   },
   "outputs": [],
   "source": [
    "df = df.drop(columns=['Harvest', 'Alive'])  # слишком много пропусков\n",
    "if 'EMF' in df.columns:\n",
    "    df['EMF'] = df['EMF'].fillna(df['EMF'].median())\n",
    "if 'Event' in df.columns:\n",
    "    df['Event'] = df['Event'].fillna(df['Event'].mode()[0])"
   ]
  },
  {
   "cell_type": "markdown",
   "metadata": {
    "id": "dLEpLBruPoLf"
   },
   "source": [
    "Проверка пропусков после обработки"
   ]
  },
  {
   "cell_type": "code",
   "execution_count": 49,
   "metadata": {
    "colab": {
     "base_uri": "https://localhost:8080/"
    },
    "id": "n5cXsR_4PpAa",
    "outputId": "862792e5-5dd6-408e-a87c-23fd0a3b0773"
   },
   "outputs": [
    {
     "name": "stdout",
     "output_type": "stream",
     "text": [
      "Оставшиеся пропуски:\n",
      "Series([], dtype: int64)\n"
     ]
    }
   ],
   "source": [
    "print(\"Оставшиеся пропуски:\")\n",
    "print(df.isnull().sum()[df.isnull().sum() > 0])"
   ]
  },
  {
   "cell_type": "markdown",
   "metadata": {
    "id": "yTWWW-WTP5yb"
   },
   "source": [
    "# --- Масштабирование ---"
   ]
  },
  {
   "cell_type": "code",
   "execution_count": 50,
   "metadata": {
    "id": "Uym9pQvcP6G4"
   },
   "outputs": [],
   "source": [
    "numeric = df.select_dtypes(include=['float64', 'int64']).drop(columns=['No', 'Core', 'Plot'])\n",
    "sc_minmax = MinMaxScaler().fit_transform(numeric)\n",
    "sc_std = StandardScaler().fit_transform(numeric)\n",
    "sc_robust = RobustScaler().fit_transform(numeric)"
   ]
  },
  {
   "cell_type": "code",
   "execution_count": 51,
   "metadata": {
    "colab": {
     "base_uri": "https://localhost:8080/"
    },
    "id": "l5i59ylOWdu7",
    "outputId": "ad72f9fe-54fa-4906-c1b8-c470cd541e4c"
   },
   "outputs": [
    {
     "name": "stdout",
     "output_type": "stream",
     "text": [
      "\n",
      "Масштабирование (MinMax):\n",
      "   Light_ISF     AMF       EMF  Phenolics    Lignin       NSC    Census  \\\n",
      "0   0.573643  0.2200  0.316800   0.106040  0.380812  0.312127  0.000000   \n",
      "1   0.573643  0.1582  0.355086   0.877852  0.598887  0.596024  1.000000   \n",
      "2   0.573643  0.2445  0.322171   0.632215  0.737066  0.425845  0.482759   \n",
      "3   0.372093  0.2223  0.316800   0.085906  0.394892  0.320477  0.000000   \n",
      "4   0.217054  0.2115  0.316800   0.103356  0.282253  0.274354  0.000000   \n",
      "\n",
      "       Time  Event  \n",
      "0  0.000000    1.0  \n",
      "1  1.000000    0.0  \n",
      "2  0.482759    1.0  \n",
      "3  0.000000    1.0  \n",
      "4  0.000000    1.0  \n",
      "\n",
      "Масштабирование (Standard):\n",
      "   Light_ISF       AMF       EMF  Phenolics    Lignin       NSC    Census  \\\n",
      "0   0.791680  0.117566  0.050683  -1.265864 -0.280272 -0.481592 -1.231007   \n",
      "1   0.791680 -0.384572  0.346915   1.653676  0.702262  1.179840  1.933236   \n",
      "2   0.791680  0.316634  0.092244   0.724501  1.324829  0.183911  0.296558   \n",
      "3  -0.222634  0.136254  0.050683  -1.342026 -0.216835 -0.432726 -1.231007   \n",
      "4  -1.002875  0.048502  0.050683  -1.276019 -0.724330 -0.702651 -1.231007   \n",
      "\n",
      "       Time     Event  \n",
      "0 -1.231007  0.867478  \n",
      "1  1.933236 -1.152766  \n",
      "2  0.296558  0.867478  \n",
      "3 -1.231007  0.867478  \n",
      "4 -1.231007  0.867478  \n",
      "\n",
      "Масштабирование (Robust):\n",
      "   Light_ISF       AMF   EMF  Phenolics    Lignin       NSC    Census  \\\n",
      "0   0.705882  0.362155  0.00  -0.362881 -0.016729 -0.089947 -0.818182   \n",
      "1   0.705882 -0.197374  3.35   1.229917  0.602230  1.169312  1.818182   \n",
      "2   0.705882  0.583975  0.47   0.722992  0.994424  0.414462  0.454545   \n",
      "3  -0.058824  0.382979  0.00  -0.404432  0.023234 -0.052910 -0.818182   \n",
      "4  -0.647059  0.285197  0.00  -0.368421 -0.296468 -0.257496 -0.818182   \n",
      "\n",
      "       Time  Event  \n",
      "0 -0.818182    0.0  \n",
      "1  1.818182   -1.0  \n",
      "2  0.454545    0.0  \n",
      "3 -0.818182    0.0  \n",
      "4 -0.818182    0.0  \n"
     ]
    }
   ],
   "source": [
    "print(\"\\nМасштабирование (MinMax):\")\n",
    "print(pd.DataFrame(sc_minmax, columns=numeric.columns).head())\n",
    "\n",
    "print(\"\\nМасштабирование (Standard):\")\n",
    "print(pd.DataFrame(sc_std, columns=numeric.columns).head())\n",
    "\n",
    "print(\"\\nМасштабирование (Robust):\")\n",
    "print(pd.DataFrame(sc_robust, columns=numeric.columns).head())"
   ]
  },
  {
   "cell_type": "markdown",
   "metadata": {
    "id": "EA1CAKZkWg2B"
   },
   "source": [
    "# --- Обработка выбросов ---\n",
    "Удаление выбросов по IQR для NSC"
   ]
  },
  {
   "cell_type": "code",
   "execution_count": 52,
   "metadata": {
    "colab": {
     "base_uri": "https://localhost:8080/"
    },
    "id": "9sbW5Z--WhS2",
    "outputId": "d5667fa1-2ad4-4933-d6bf-99bd464697e3"
   },
   "outputs": [
    {
     "name": "stdout",
     "output_type": "stream",
     "text": [
      "\n",
      "Удаление выбросов: осталось строк: 2779\n"
     ]
    }
   ],
   "source": [
    "Q1 = df['NSC'].quantile(0.25)\n",
    "Q3 = df['NSC'].quantile(0.75)\n",
    "IQR = Q3 - Q1\n",
    "filtered_df = df[(df['NSC'] >= Q1 - 1.5 * IQR) & (df['NSC'] <= Q3 + 1.5 * IQR)]\n",
    "print(\"\\nУдаление выбросов: осталось строк:\", len(filtered_df))"
   ]
  },
  {
   "cell_type": "markdown",
   "metadata": {
    "id": "VkLmzOr0Wqci"
   },
   "source": [
    "Замена выбросов Winsorization для Lignin"
   ]
  },
  {
   "cell_type": "code",
   "execution_count": 53,
   "metadata": {
    "id": "Qzw1hu6QWq4R"
   },
   "outputs": [],
   "source": [
    "df['Lignin'] = stats.mstats.winsorize(df['Lignin'], limits=[0.05, 0.05])"
   ]
  },
  {
   "cell_type": "markdown",
   "metadata": {
    "id": "CHOfZsNOWtcw"
   },
   "source": [
    "# --- Обработка нестандартного признака (дата) ---"
   ]
  },
  {
   "cell_type": "code",
   "execution_count": 55,
   "metadata": {
    "id": "sMfiz6taWtyb"
   },
   "outputs": [],
   "source": [
    "df['PlantDate'] = pd.to_datetime(df['PlantDate'], format=\"%m/%d/%y\", errors='coerce')\n",
    "df['PlantMonth'] = df['PlantDate'].dt.month\n",
    "df['PlantDay'] = df['PlantDate'].dt.day"
   ]
  },
  {
   "cell_type": "markdown",
   "metadata": {
    "id": "2Q1ML4M9XYWN"
   },
   "source": [
    "# --- Отбор признаков ---\n",
    "Target: бинаризуем 'Sterile'"
   ]
  },
  {
   "cell_type": "code",
   "execution_count": 56,
   "metadata": {
    "id": "kFQdNt3NXdHA"
   },
   "outputs": [],
   "source": [
    "df = df[df['Sterile'].isin(['Sterile', 'Non-Sterile'])]\n",
    "df['Sterile_bin'] = (df['Sterile'] == 'Non-Sterile').astype(int)"
   ]
  },
  {
   "cell_type": "markdown",
   "metadata": {
    "id": "70nXRiAtXfRF"
   },
   "source": [
    "1. Filter method — корреляция"
   ]
  },
  {
   "cell_type": "code",
   "execution_count": 57,
   "metadata": {
    "colab": {
     "base_uri": "https://localhost:8080/"
    },
    "id": "l2TQmZQhXfjb",
    "outputId": "6818b570-8696-4216-a93b-7a865ac84017"
   },
   "outputs": [
    {
     "name": "stdout",
     "output_type": "stream",
     "text": [
      "\n",
      "Filter method (корреляция):\n",
      "EMF           0.388015\n",
      "AMF           0.384148\n",
      "PlantMonth    0.183937\n",
      "Core          0.103794\n",
      "Event         0.077577\n",
      "Name: Sterile_bin, dtype: float64\n"
     ]
    }
   ],
   "source": [
    "corr = df.corr(numeric_only=True)['Sterile_bin'].drop('Sterile_bin').abs()\n",
    "filter_top = corr.sort_values(ascending=False).head(5)\n",
    "print(\"\\nFilter method (корреляция):\")\n",
    "print(filter_top)\n"
   ]
  },
  {
   "cell_type": "markdown",
   "metadata": {
    "id": "HGkeq3WaXhQW"
   },
   "source": [
    "Wrapper method — RFE"
   ]
  },
  {
   "cell_type": "code",
   "execution_count": 58,
   "metadata": {
    "colab": {
     "base_uri": "https://localhost:8080/"
    },
    "id": "UMYuP7W3XigQ",
    "outputId": "da889cd2-5d88-4bfe-a69b-e0ed9edc9617"
   },
   "outputs": [
    {
     "name": "stdout",
     "output_type": "stream",
     "text": [
      "\n",
      "Wrapper method (RFE):\n",
      "Index(['Light_ISF', 'AMF', 'EMF', 'Phenolics', 'Lignin'], dtype='object')\n"
     ]
    }
   ],
   "source": [
    "X = df[numeric.columns].fillna(0)\n",
    "y = df['Sterile_bin']\n",
    "model = LogisticRegression(max_iter=1000)\n",
    "rfe = RFE(model, n_features_to_select=5)\n",
    "rfe.fit(X, y)\n",
    "print(\"\\nWrapper method (RFE):\")\n",
    "print(X.columns[rfe.support_])"
   ]
  },
  {
   "cell_type": "markdown",
   "metadata": {
    "id": "eeUprT9fXlxC"
   },
   "source": [
    "Embedded method — Lasso"
   ]
  },
  {
   "cell_type": "code",
   "execution_count": 59,
   "metadata": {
    "colab": {
     "base_uri": "https://localhost:8080/"
    },
    "id": "vH6BQ3AzXmB7",
    "outputId": "4cd14e3b-0e91-4294-de6b-7c6664d00f1d"
   },
   "outputs": [
    {
     "name": "stdout",
     "output_type": "stream",
     "text": [
      "\n",
      "Embedded method (Lasso):\n",
      "Event     0.080828\n",
      "AMF       0.010928\n",
      "EMF       0.010500\n",
      "Lignin    0.008496\n",
      "NSC       0.005773\n",
      "dtype: float64\n"
     ]
    }
   ],
   "source": [
    "lasso = LassoCV(cv=5).fit(X, y)\n",
    "importance = pd.Series(np.abs(lasso.coef_), index=X.columns)\n",
    "print(\"\\nEmbedded method (Lasso):\")\n",
    "print(importance.sort_values(ascending=False).head(5))"
   ]
  }
 ],
 "metadata": {
  "colab": {
   "provenance": []
  },
  "kernelspec": {
   "display_name": "Python 3",
   "language": "python",
   "name": "python3"
  },
  "language_info": {
   "codemirror_mode": {
    "name": "ipython",
    "version": 3
   },
   "file_extension": ".py",
   "mimetype": "text/x-python",
   "name": "python",
   "nbconvert_exporter": "python",
   "pygments_lexer": "ipython3",
   "version": "3.7.6"
  }
 },
 "nbformat": 4,
 "nbformat_minor": 1
}
