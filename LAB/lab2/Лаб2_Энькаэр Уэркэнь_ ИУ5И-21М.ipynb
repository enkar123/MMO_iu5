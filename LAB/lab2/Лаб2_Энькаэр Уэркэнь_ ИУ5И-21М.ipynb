{
 "cells": [
  {
   "cell_type": "markdown",
   "metadata": {
    "id": "KIU1TSyeI-dp"
   },
   "source": [
    "# **Лаб2_Энькаэр Уэркэнь_ ИУ5И-21М**\n",
    "\n",
    "# **Задание**\n",
    "\n",
    "1. Выбрать набор данных (датасет), содержащий категориальные и числовые признаки и пропуски в данных. Для выполнения следующих пунктов можно использовать несколько различных наборов данных (один для обработки пропусков, другой для категориальных признаков и т.д.) Просьба не использовать датасет, на котором данная задача решалась в лекции.\n",
    "2. Для выбранного датасета (датасетов) на основе материалов лекций решить следующие задачи:\n",
    "\n",
    "  * устранение пропусков в данных;\n",
    "  * кодирование категориальных признаков;\n",
    "  * нормализация числовых признаков.\n",
    "\n",
    "# **Ход работы**"
   ]
  },
  {
   "cell_type": "code",
   "execution_count": 32,
   "metadata": {
    "id": "ecRDV_6FJjVQ"
   },
   "outputs": [],
   "source": [
    "import pandas as pd\n",
    "import numpy as np\n",
    "from sklearn.preprocessing import StandardScaler, OneHotEncoder\n",
    "from sklearn.compose import ColumnTransformer\n",
    "from sklearn.pipeline import Pipeline\n",
    "import matplotlib.pyplot as plt\n",
    "import seaborn as sns"
   ]
  },
  {
   "cell_type": "code",
   "execution_count": 33,
   "metadata": {
    "colab": {
     "base_uri": "https://localhost:8080/",
     "height": 342
    },
    "id": "JMxw6dO-JmS-",
    "outputId": "f268df1d-c6cb-41e0-c953-a3bb5413c5cf"
   },
   "outputs": [
    {
     "data": {
      "application/vnd.google.colaboratory.intrinsic+json": {
       "type": "dataframe",
       "variable_name": "df"
      },
      "text/html": [
       "\n",
       "  <div id=\"df-5b0820d6-c7ca-4390-b355-d95daddbb9a0\" class=\"colab-df-container\">\n",
       "    <div>\n",
       "<style scoped>\n",
       "    .dataframe tbody tr th:only-of-type {\n",
       "        vertical-align: middle;\n",
       "    }\n",
       "\n",
       "    .dataframe tbody tr th {\n",
       "        vertical-align: top;\n",
       "    }\n",
       "\n",
       "    .dataframe thead th {\n",
       "        text-align: right;\n",
       "    }\n",
       "</style>\n",
       "<table border=\"1\" class=\"dataframe\">\n",
       "  <thead>\n",
       "    <tr style=\"text-align: right;\">\n",
       "      <th></th>\n",
       "      <th>No</th>\n",
       "      <th>Plot</th>\n",
       "      <th>Subplot</th>\n",
       "      <th>Species</th>\n",
       "      <th>Light_ISF</th>\n",
       "      <th>Light_Cat</th>\n",
       "      <th>Core</th>\n",
       "      <th>Soil</th>\n",
       "      <th>Adult</th>\n",
       "      <th>Sterile</th>\n",
       "      <th>...</th>\n",
       "      <th>AMF</th>\n",
       "      <th>EMF</th>\n",
       "      <th>Phenolics</th>\n",
       "      <th>Lignin</th>\n",
       "      <th>NSC</th>\n",
       "      <th>Census</th>\n",
       "      <th>Time</th>\n",
       "      <th>Event</th>\n",
       "      <th>Harvest</th>\n",
       "      <th>Alive</th>\n",
       "    </tr>\n",
       "  </thead>\n",
       "  <tbody>\n",
       "    <tr>\n",
       "      <th>0</th>\n",
       "      <td>126</td>\n",
       "      <td>1</td>\n",
       "      <td>C</td>\n",
       "      <td>Acer saccharum</td>\n",
       "      <td>0.106</td>\n",
       "      <td>Med</td>\n",
       "      <td>2017</td>\n",
       "      <td>Prunus serotina</td>\n",
       "      <td>I</td>\n",
       "      <td>Non-Sterile</td>\n",
       "      <td>...</td>\n",
       "      <td>22.00</td>\n",
       "      <td>NaN</td>\n",
       "      <td>-0.56</td>\n",
       "      <td>13.86</td>\n",
       "      <td>12.15</td>\n",
       "      <td>4</td>\n",
       "      <td>14.0</td>\n",
       "      <td>1.0</td>\n",
       "      <td>NaN</td>\n",
       "      <td>NaN</td>\n",
       "    </tr>\n",
       "    <tr>\n",
       "      <th>1</th>\n",
       "      <td>11</td>\n",
       "      <td>1</td>\n",
       "      <td>C</td>\n",
       "      <td>Quercus alba</td>\n",
       "      <td>0.106</td>\n",
       "      <td>Med</td>\n",
       "      <td>2017</td>\n",
       "      <td>Quercus rubra</td>\n",
       "      <td>970</td>\n",
       "      <td>Non-Sterile</td>\n",
       "      <td>...</td>\n",
       "      <td>15.82</td>\n",
       "      <td>31.07</td>\n",
       "      <td>5.19</td>\n",
       "      <td>20.52</td>\n",
       "      <td>19.29</td>\n",
       "      <td>33</td>\n",
       "      <td>115.5</td>\n",
       "      <td>0.0</td>\n",
       "      <td>NaN</td>\n",
       "      <td>X</td>\n",
       "    </tr>\n",
       "    <tr>\n",
       "      <th>2</th>\n",
       "      <td>12</td>\n",
       "      <td>1</td>\n",
       "      <td>C</td>\n",
       "      <td>Quercus rubra</td>\n",
       "      <td>0.106</td>\n",
       "      <td>Med</td>\n",
       "      <td>2017</td>\n",
       "      <td>Prunus serotina</td>\n",
       "      <td>J</td>\n",
       "      <td>Non-Sterile</td>\n",
       "      <td>...</td>\n",
       "      <td>24.45</td>\n",
       "      <td>28.19</td>\n",
       "      <td>3.36</td>\n",
       "      <td>24.74</td>\n",
       "      <td>15.01</td>\n",
       "      <td>18</td>\n",
       "      <td>63.0</td>\n",
       "      <td>1.0</td>\n",
       "      <td>NaN</td>\n",
       "      <td>NaN</td>\n",
       "    </tr>\n",
       "    <tr>\n",
       "      <th>3</th>\n",
       "      <td>2823</td>\n",
       "      <td>7</td>\n",
       "      <td>D</td>\n",
       "      <td>Acer saccharum</td>\n",
       "      <td>0.080</td>\n",
       "      <td>Med</td>\n",
       "      <td>2016</td>\n",
       "      <td>Prunus serotina</td>\n",
       "      <td>J</td>\n",
       "      <td>Non-Sterile</td>\n",
       "      <td>...</td>\n",
       "      <td>22.23</td>\n",
       "      <td>NaN</td>\n",
       "      <td>-0.71</td>\n",
       "      <td>14.29</td>\n",
       "      <td>12.36</td>\n",
       "      <td>4</td>\n",
       "      <td>14.0</td>\n",
       "      <td>1.0</td>\n",
       "      <td>NaN</td>\n",
       "      <td>NaN</td>\n",
       "    </tr>\n",
       "    <tr>\n",
       "      <th>4</th>\n",
       "      <td>5679</td>\n",
       "      <td>14</td>\n",
       "      <td>A</td>\n",
       "      <td>Acer saccharum</td>\n",
       "      <td>0.060</td>\n",
       "      <td>Low</td>\n",
       "      <td>2017</td>\n",
       "      <td>Prunus serotina</td>\n",
       "      <td>689</td>\n",
       "      <td>Non-Sterile</td>\n",
       "      <td>...</td>\n",
       "      <td>21.15</td>\n",
       "      <td>NaN</td>\n",
       "      <td>-0.58</td>\n",
       "      <td>10.85</td>\n",
       "      <td>11.20</td>\n",
       "      <td>4</td>\n",
       "      <td>14.0</td>\n",
       "      <td>1.0</td>\n",
       "      <td>NaN</td>\n",
       "      <td>NaN</td>\n",
       "    </tr>\n",
       "  </tbody>\n",
       "</table>\n",
       "<p>5 rows × 24 columns</p>\n",
       "</div>\n",
       "    <div class=\"colab-df-buttons\">\n",
       "\n",
       "  <div class=\"colab-df-container\">\n",
       "    <button class=\"colab-df-convert\" onclick=\"convertToInteractive('df-5b0820d6-c7ca-4390-b355-d95daddbb9a0')\"\n",
       "            title=\"Convert this dataframe to an interactive table.\"\n",
       "            style=\"display:none;\">\n",
       "\n",
       "  <svg xmlns=\"http://www.w3.org/2000/svg\" height=\"24px\" viewBox=\"0 -960 960 960\">\n",
       "    <path d=\"M120-120v-720h720v720H120Zm60-500h600v-160H180v160Zm220 220h160v-160H400v160Zm0 220h160v-160H400v160ZM180-400h160v-160H180v160Zm440 0h160v-160H620v160ZM180-180h160v-160H180v160Zm440 0h160v-160H620v160Z\"/>\n",
       "  </svg>\n",
       "    </button>\n",
       "\n",
       "  <style>\n",
       "    .colab-df-container {\n",
       "      display:flex;\n",
       "      gap: 12px;\n",
       "    }\n",
       "\n",
       "    .colab-df-convert {\n",
       "      background-color: #E8F0FE;\n",
       "      border: none;\n",
       "      border-radius: 50%;\n",
       "      cursor: pointer;\n",
       "      display: none;\n",
       "      fill: #1967D2;\n",
       "      height: 32px;\n",
       "      padding: 0 0 0 0;\n",
       "      width: 32px;\n",
       "    }\n",
       "\n",
       "    .colab-df-convert:hover {\n",
       "      background-color: #E2EBFA;\n",
       "      box-shadow: 0px 1px 2px rgba(60, 64, 67, 0.3), 0px 1px 3px 1px rgba(60, 64, 67, 0.15);\n",
       "      fill: #174EA6;\n",
       "    }\n",
       "\n",
       "    .colab-df-buttons div {\n",
       "      margin-bottom: 4px;\n",
       "    }\n",
       "\n",
       "    [theme=dark] .colab-df-convert {\n",
       "      background-color: #3B4455;\n",
       "      fill: #D2E3FC;\n",
       "    }\n",
       "\n",
       "    [theme=dark] .colab-df-convert:hover {\n",
       "      background-color: #434B5C;\n",
       "      box-shadow: 0px 1px 3px 1px rgba(0, 0, 0, 0.15);\n",
       "      filter: drop-shadow(0px 1px 2px rgba(0, 0, 0, 0.3));\n",
       "      fill: #FFFFFF;\n",
       "    }\n",
       "  </style>\n",
       "\n",
       "    <script>\n",
       "      const buttonEl =\n",
       "        document.querySelector('#df-5b0820d6-c7ca-4390-b355-d95daddbb9a0 button.colab-df-convert');\n",
       "      buttonEl.style.display =\n",
       "        google.colab.kernel.accessAllowed ? 'block' : 'none';\n",
       "\n",
       "      async function convertToInteractive(key) {\n",
       "        const element = document.querySelector('#df-5b0820d6-c7ca-4390-b355-d95daddbb9a0');\n",
       "        const dataTable =\n",
       "          await google.colab.kernel.invokeFunction('convertToInteractive',\n",
       "                                                    [key], {});\n",
       "        if (!dataTable) return;\n",
       "\n",
       "        const docLinkHtml = 'Like what you see? Visit the ' +\n",
       "          '<a target=\"_blank\" href=https://colab.research.google.com/notebooks/data_table.ipynb>data table notebook</a>'\n",
       "          + ' to learn more about interactive tables.';\n",
       "        element.innerHTML = '';\n",
       "        dataTable['output_type'] = 'display_data';\n",
       "        await google.colab.output.renderOutput(dataTable, element);\n",
       "        const docLink = document.createElement('div');\n",
       "        docLink.innerHTML = docLinkHtml;\n",
       "        element.appendChild(docLink);\n",
       "      }\n",
       "    </script>\n",
       "  </div>\n",
       "\n",
       "\n",
       "<div id=\"df-581d1710-7ff3-49be-9caf-fdb2f9be86f8\">\n",
       "  <button class=\"colab-df-quickchart\" onclick=\"quickchart('df-581d1710-7ff3-49be-9caf-fdb2f9be86f8')\"\n",
       "            title=\"Suggest charts\"\n",
       "            style=\"display:none;\">\n",
       "\n",
       "<svg xmlns=\"http://www.w3.org/2000/svg\" height=\"24px\"viewBox=\"0 0 24 24\"\n",
       "     width=\"24px\">\n",
       "    <g>\n",
       "        <path d=\"M19 3H5c-1.1 0-2 .9-2 2v14c0 1.1.9 2 2 2h14c1.1 0 2-.9 2-2V5c0-1.1-.9-2-2-2zM9 17H7v-7h2v7zm4 0h-2V7h2v10zm4 0h-2v-4h2v4z\"/>\n",
       "    </g>\n",
       "</svg>\n",
       "  </button>\n",
       "\n",
       "<style>\n",
       "  .colab-df-quickchart {\n",
       "      --bg-color: #E8F0FE;\n",
       "      --fill-color: #1967D2;\n",
       "      --hover-bg-color: #E2EBFA;\n",
       "      --hover-fill-color: #174EA6;\n",
       "      --disabled-fill-color: #AAA;\n",
       "      --disabled-bg-color: #DDD;\n",
       "  }\n",
       "\n",
       "  [theme=dark] .colab-df-quickchart {\n",
       "      --bg-color: #3B4455;\n",
       "      --fill-color: #D2E3FC;\n",
       "      --hover-bg-color: #434B5C;\n",
       "      --hover-fill-color: #FFFFFF;\n",
       "      --disabled-bg-color: #3B4455;\n",
       "      --disabled-fill-color: #666;\n",
       "  }\n",
       "\n",
       "  .colab-df-quickchart {\n",
       "    background-color: var(--bg-color);\n",
       "    border: none;\n",
       "    border-radius: 50%;\n",
       "    cursor: pointer;\n",
       "    display: none;\n",
       "    fill: var(--fill-color);\n",
       "    height: 32px;\n",
       "    padding: 0;\n",
       "    width: 32px;\n",
       "  }\n",
       "\n",
       "  .colab-df-quickchart:hover {\n",
       "    background-color: var(--hover-bg-color);\n",
       "    box-shadow: 0 1px 2px rgba(60, 64, 67, 0.3), 0 1px 3px 1px rgba(60, 64, 67, 0.15);\n",
       "    fill: var(--button-hover-fill-color);\n",
       "  }\n",
       "\n",
       "  .colab-df-quickchart-complete:disabled,\n",
       "  .colab-df-quickchart-complete:disabled:hover {\n",
       "    background-color: var(--disabled-bg-color);\n",
       "    fill: var(--disabled-fill-color);\n",
       "    box-shadow: none;\n",
       "  }\n",
       "\n",
       "  .colab-df-spinner {\n",
       "    border: 2px solid var(--fill-color);\n",
       "    border-color: transparent;\n",
       "    border-bottom-color: var(--fill-color);\n",
       "    animation:\n",
       "      spin 1s steps(1) infinite;\n",
       "  }\n",
       "\n",
       "  @keyframes spin {\n",
       "    0% {\n",
       "      border-color: transparent;\n",
       "      border-bottom-color: var(--fill-color);\n",
       "      border-left-color: var(--fill-color);\n",
       "    }\n",
       "    20% {\n",
       "      border-color: transparent;\n",
       "      border-left-color: var(--fill-color);\n",
       "      border-top-color: var(--fill-color);\n",
       "    }\n",
       "    30% {\n",
       "      border-color: transparent;\n",
       "      border-left-color: var(--fill-color);\n",
       "      border-top-color: var(--fill-color);\n",
       "      border-right-color: var(--fill-color);\n",
       "    }\n",
       "    40% {\n",
       "      border-color: transparent;\n",
       "      border-right-color: var(--fill-color);\n",
       "      border-top-color: var(--fill-color);\n",
       "    }\n",
       "    60% {\n",
       "      border-color: transparent;\n",
       "      border-right-color: var(--fill-color);\n",
       "    }\n",
       "    80% {\n",
       "      border-color: transparent;\n",
       "      border-right-color: var(--fill-color);\n",
       "      border-bottom-color: var(--fill-color);\n",
       "    }\n",
       "    90% {\n",
       "      border-color: transparent;\n",
       "      border-bottom-color: var(--fill-color);\n",
       "    }\n",
       "  }\n",
       "</style>\n",
       "\n",
       "  <script>\n",
       "    async function quickchart(key) {\n",
       "      const quickchartButtonEl =\n",
       "        document.querySelector('#' + key + ' button');\n",
       "      quickchartButtonEl.disabled = true;  // To prevent multiple clicks.\n",
       "      quickchartButtonEl.classList.add('colab-df-spinner');\n",
       "      try {\n",
       "        const charts = await google.colab.kernel.invokeFunction(\n",
       "            'suggestCharts', [key], {});\n",
       "      } catch (error) {\n",
       "        console.error('Error during call to suggestCharts:', error);\n",
       "      }\n",
       "      quickchartButtonEl.classList.remove('colab-df-spinner');\n",
       "      quickchartButtonEl.classList.add('colab-df-quickchart-complete');\n",
       "    }\n",
       "    (() => {\n",
       "      let quickchartButtonEl =\n",
       "        document.querySelector('#df-581d1710-7ff3-49be-9caf-fdb2f9be86f8 button');\n",
       "      quickchartButtonEl.style.display =\n",
       "        google.colab.kernel.accessAllowed ? 'block' : 'none';\n",
       "    })();\n",
       "  </script>\n",
       "</div>\n",
       "    </div>\n",
       "  </div>\n"
      ],
      "text/plain": [
       "     No  Plot Subplot         Species  Light_ISF Light_Cat  Core  \\\n",
       "0   126     1       C  Acer saccharum      0.106       Med  2017   \n",
       "1    11     1       C    Quercus alba      0.106       Med  2017   \n",
       "2    12     1       C   Quercus rubra      0.106       Med  2017   \n",
       "3  2823     7       D  Acer saccharum      0.080       Med  2016   \n",
       "4  5679    14       A  Acer saccharum      0.060       Low  2017   \n",
       "\n",
       "              Soil Adult      Sterile  ...    AMF    EMF Phenolics Lignin  \\\n",
       "0  Prunus serotina     I  Non-Sterile  ...  22.00    NaN     -0.56  13.86   \n",
       "1    Quercus rubra   970  Non-Sterile  ...  15.82  31.07      5.19  20.52   \n",
       "2  Prunus serotina     J  Non-Sterile  ...  24.45  28.19      3.36  24.74   \n",
       "3  Prunus serotina     J  Non-Sterile  ...  22.23    NaN     -0.71  14.29   \n",
       "4  Prunus serotina   689  Non-Sterile  ...  21.15    NaN     -0.58  10.85   \n",
       "\n",
       "     NSC  Census   Time  Event  Harvest  Alive  \n",
       "0  12.15       4   14.0    1.0      NaN    NaN  \n",
       "1  19.29      33  115.5    0.0      NaN      X  \n",
       "2  15.01      18   63.0    1.0      NaN    NaN  \n",
       "3  12.36       4   14.0    1.0      NaN    NaN  \n",
       "4  11.20       4   14.0    1.0      NaN    NaN  \n",
       "\n",
       "[5 rows x 24 columns]"
      ]
     },
     "execution_count": 33,
     "metadata": {},
     "output_type": "execute_result"
    }
   ],
   "source": [
    "# Загрузка датасета\n",
    "df = pd.read_csv(\"Tree_Data.csv\")\n",
    "df.head()"
   ]
  },
  {
   "cell_type": "markdown",
   "metadata": {
    "id": "0vYhGQaLKoJn"
   },
   "source": [
    "# --- 1. Устранение пропусков ---\n",
    "Удаляем признаки с большим количеством пропусков"
   ]
  },
  {
   "cell_type": "code",
   "execution_count": 34,
   "metadata": {
    "colab": {
     "base_uri": "https://localhost:8080/"
    },
    "id": "I_jHZBMFPsAi",
    "outputId": "2e1aae47-b8d3-4fa0-b672-834013f7370f"
   },
   "outputs": [
    {
     "name": "stdout",
     "output_type": "stream",
     "text": [
      "Текущие пропуски:\n",
      "EMF        1500\n",
      "Event         1\n",
      "Harvest    2079\n",
      "Alive      2292\n",
      "dtype: int64\n"
     ]
    }
   ],
   "source": [
    "print(\"Текущие пропуски:\")\n",
    "print(df.isnull().sum()[df.isnull().sum() > 0])"
   ]
  },
  {
   "cell_type": "code",
   "execution_count": 35,
   "metadata": {
    "id": "f17eLXwmKtFN"
   },
   "outputs": [],
   "source": [
    "threshold = len(df) * 0.7\n",
    "missing = df.isnull().sum()\n",
    "df = df.drop(columns=missing[missing > (len(df) - threshold)].index)"
   ]
  },
  {
   "cell_type": "markdown",
   "metadata": {
    "id": "jdbbgYLXPPx8"
   },
   "source": [
    "Заполняем числовые пропуски медианой"
   ]
  },
  {
   "cell_type": "code",
   "execution_count": 36,
   "metadata": {
    "id": "gICkJMoiPTYf"
   },
   "outputs": [],
   "source": [
    "if 'EMF' in df.columns:\n",
    "    df['EMF'] = df['EMF'].fillna(df['EMF'].median())\n",
    "if 'Event' in df.columns:\n",
    "    df['Event'] = df['Event'].fillna(df['Event'].mode()[0])"
   ]
  },
  {
   "cell_type": "markdown",
   "metadata": {
    "id": "dLEpLBruPoLf"
   },
   "source": [
    "Проверка пропусков после обработки"
   ]
  },
  {
   "cell_type": "code",
   "execution_count": 37,
   "metadata": {
    "colab": {
     "base_uri": "https://localhost:8080/"
    },
    "id": "n5cXsR_4PpAa",
    "outputId": "088d44aa-e2e1-4cca-c673-55f1f479e690"
   },
   "outputs": [
    {
     "name": "stdout",
     "output_type": "stream",
     "text": [
      "Оставшиеся пропуски:\n",
      "Series([], dtype: int64)\n"
     ]
    }
   ],
   "source": [
    "print(\"Оставшиеся пропуски:\")\n",
    "print(df.isnull().sum()[df.isnull().sum() > 0])"
   ]
  },
  {
   "cell_type": "markdown",
   "metadata": {
    "id": "yTWWW-WTP5yb"
   },
   "source": [
    "# --- 2. Кодирование категориальных признаков ---"
   ]
  },
  {
   "cell_type": "code",
   "execution_count": 38,
   "metadata": {
    "id": "Uym9pQvcP6G4"
   },
   "outputs": [],
   "source": [
    "categorical_cols = df.select_dtypes(include=['object']).columns.tolist()\n",
    "numeric_cols = df.select_dtypes(include=['float64', 'int64']).columns.tolist()"
   ]
  },
  {
   "cell_type": "markdown",
   "metadata": {
    "id": "n6x6WCHRP8lr"
   },
   "source": [
    "OneHotEncoder с удалением первой категории"
   ]
  },
  {
   "cell_type": "code",
   "execution_count": 40,
   "metadata": {
    "id": "tdXwo3wiP9yu"
   },
   "outputs": [],
   "source": [
    "encoder = ColumnTransformer([\n",
    "    (\"cat\", OneHotEncoder(drop='first', sparse_output=False), categorical_cols)\n",
    "], remainder='passthrough')"
   ]
  },
  {
   "cell_type": "markdown",
   "metadata": {
    "id": "OpYhFpmhQAvE"
   },
   "source": [
    "Применим преобразование"
   ]
  },
  {
   "cell_type": "code",
   "execution_count": 41,
   "metadata": {
    "id": "ecRNR5xrQBBw"
   },
   "outputs": [],
   "source": [
    "encoded = encoder.fit_transform(df)\n",
    "encoded_df = pd.DataFrame(encoded, columns=encoder.get_feature_names_out())"
   ]
  },
  {
   "cell_type": "code",
   "execution_count": 42,
   "metadata": {
    "colab": {
     "base_uri": "https://localhost:8080/"
    },
    "id": "iCT7QYk-QcuJ",
    "outputId": "3b1ada8a-d930-40ce-8070-a0c572f1673d"
   },
   "outputs": [
    {
     "name": "stdout",
     "output_type": "stream",
     "text": [
      "\n",
      "После кодирования категориальных признаков:\n",
      "Размерность: (2783, 85)\n",
      "Первые строки:\n",
      "   cat__Subplot_B  cat__Subplot_C  cat__Subplot_D  cat__Subplot_E  \\\n",
      "0             0.0             1.0             0.0             0.0   \n",
      "1             0.0             1.0             0.0             0.0   \n",
      "2             0.0             1.0             0.0             0.0   \n",
      "3             0.0             0.0             1.0             0.0   \n",
      "4             0.0             0.0             0.0             0.0   \n",
      "\n",
      "   cat__Species_Prunus serotina  cat__Species_Quercus alba  \\\n",
      "0                           0.0                        0.0   \n",
      "1                           0.0                        1.0   \n",
      "2                           0.0                        0.0   \n",
      "3                           0.0                        0.0   \n",
      "4                           0.0                        0.0   \n",
      "\n",
      "   cat__Species_Quercus rubra  cat__Light_Cat_Low  cat__Light_Cat_Med  \\\n",
      "0                         0.0                 0.0                 1.0   \n",
      "1                         0.0                 0.0                 1.0   \n",
      "2                         1.0                 0.0                 1.0   \n",
      "3                         0.0                 0.0                 1.0   \n",
      "4                         0.0                 1.0                 0.0   \n",
      "\n",
      "   cat__Soil_Acer saccharum  ...  remainder__Plot  remainder__Light_ISF  \\\n",
      "0                       0.0  ...              1.0                 0.106   \n",
      "1                       0.0  ...              1.0                 0.106   \n",
      "2                       0.0  ...              1.0                 0.106   \n",
      "3                       0.0  ...              7.0                 0.080   \n",
      "4                       0.0  ...             14.0                 0.060   \n",
      "\n",
      "   remainder__Core  remainder__AMF  remainder__Phenolics  remainder__Lignin  \\\n",
      "0           2017.0           22.00                 -0.56              13.86   \n",
      "1           2017.0           15.82                  5.19              20.52   \n",
      "2           2017.0           24.45                  3.36              24.74   \n",
      "3           2016.0           22.23                 -0.71              14.29   \n",
      "4           2017.0           21.15                 -0.58              10.85   \n",
      "\n",
      "   remainder__NSC  remainder__Census  remainder__Time  remainder__Event  \n",
      "0           12.15                4.0             14.0               1.0  \n",
      "1           19.29               33.0            115.5               0.0  \n",
      "2           15.01               18.0             63.0               1.0  \n",
      "3           12.36                4.0             14.0               1.0  \n",
      "4           11.20                4.0             14.0               1.0  \n",
      "\n",
      "[5 rows x 85 columns]\n"
     ]
    }
   ],
   "source": [
    "print(\"\\nПосле кодирования категориальных признаков:\")\n",
    "print(\"Размерность:\", encoded_df.shape)\n",
    "print(\"Первые строки:\")\n",
    "print(encoded_df.head())"
   ]
  },
  {
   "cell_type": "markdown",
   "metadata": {
    "id": "8u3e1RSqQkq6"
   },
   "source": [
    "# --- 3. Нормализация числовых признаков ---"
   ]
  },
  {
   "cell_type": "code",
   "execution_count": 43,
   "metadata": {
    "id": "S_0GURHkQlTm"
   },
   "outputs": [],
   "source": [
    "num_features_out = [col for col in encoded_df.columns if any(orig in col for orig in numeric_cols)]\n",
    "\n",
    "scaler = StandardScaler()\n",
    "encoded_df[num_features_out] = scaler.fit_transform(encoded_df[num_features_out])"
   ]
  },
  {
   "cell_type": "markdown",
   "metadata": {
    "id": "tFqUQ36iRLYw"
   },
   "source": [
    "Проверка результатов"
   ]
  },
  {
   "cell_type": "code",
   "execution_count": 44,
   "metadata": {
    "colab": {
     "base_uri": "https://localhost:8080/"
    },
    "id": "ybmHDiFjRLt4",
    "outputId": "0c159b05-e461-41a0-886a-9e7a1b2163e9"
   },
   "outputs": [
    {
     "name": "stdout",
     "output_type": "stream",
     "text": [
      "\n",
      "Нормализованные числовые признаки (первые строки):\n",
      "   remainder__No  remainder__Plot  remainder__Light_ISF  remainder__Core  \\\n",
      "0      -1.681460        -1.645604              0.791680         0.735510   \n",
      "1      -1.732500        -1.645604              0.791680         0.735510   \n",
      "2      -1.732056        -1.645604              0.791680         0.735510   \n",
      "3      -0.484448        -0.492362             -0.222634        -1.359601   \n",
      "4       0.783134         0.853087             -1.002875         0.735510   \n",
      "\n",
      "   remainder__AMF  remainder__Phenolics  remainder__Lignin  remainder__NSC  \\\n",
      "0        0.117566             -1.265864          -0.280272       -0.481592   \n",
      "1       -0.384572              1.653676           0.702262        1.179840   \n",
      "2        0.316634              0.724501           1.324829        0.183911   \n",
      "3        0.136254             -1.342026          -0.216835       -0.432726   \n",
      "4        0.048502             -1.276019          -0.724330       -0.702651   \n",
      "\n",
      "   remainder__Census  remainder__Time  remainder__Event  \n",
      "0          -1.231007        -1.231007          0.867478  \n",
      "1           1.933236         1.933236         -1.152766  \n",
      "2           0.296558         0.296558          0.867478  \n",
      "3          -1.231007        -1.231007          0.867478  \n",
      "4          -1.231007        -1.231007          0.867478  \n"
     ]
    }
   ],
   "source": [
    "print(\"\\nНормализованные числовые признаки (первые строки):\")\n",
    "print(encoded_df[num_features_out].head())"
   ]
  }
 ],
 "metadata": {
  "colab": {
   "provenance": []
  },
  "kernelspec": {
   "display_name": "Python 3",
   "language": "python",
   "name": "python3"
  },
  "language_info": {
   "codemirror_mode": {
    "name": "ipython",
    "version": 3
   },
   "file_extension": ".py",
   "mimetype": "text/x-python",
   "name": "python",
   "nbconvert_exporter": "python",
   "pygments_lexer": "ipython3",
   "version": "3.7.6"
  }
 },
 "nbformat": 4,
 "nbformat_minor": 1
}
