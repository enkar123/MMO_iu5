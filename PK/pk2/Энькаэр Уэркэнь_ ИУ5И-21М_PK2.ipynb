{
 "cells": [
  {
   "cell_type": "markdown",
   "metadata": {
    "id": "c8P91Ibk_aZx"
   },
   "source": [
    "# РК2 по ММО_Энькаэр Уэркэнь_ ИУ5И-21М"
   ]
  },
  {
   "cell_type": "code",
   "execution_count": null,
   "metadata": {
    "id": "anNcTyYf4966"
   },
   "outputs": [],
   "source": [
    "from sklearn.datasets import fetch_20newsgroups\n",
    "from sklearn.feature_extraction.text import CountVectorizer, TfidfVectorizer\n",
    "from sklearn.model_selection import train_test_split\n",
    "from sklearn.svm import SVC\n",
    "from sklearn.linear_model import LogisticRegression\n",
    "from sklearn.metrics import accuracy_score, classification_report\n",
    "import pandas as pd\n"
   ]
  },
  {
   "cell_type": "code",
   "execution_count": null,
   "metadata": {
    "id": "WYmijyOj5B4f"
   },
   "outputs": [],
   "source": [
    "# Загрузка датасета (20 категорий новостей)\n",
    "data = fetch_20newsgroups(subset='all', remove=('headers', 'footers', 'quotes'))\n",
    "X = data.data\n",
    "y = data.target"
   ]
  },
  {
   "cell_type": "code",
   "execution_count": null,
   "metadata": {
    "id": "EK6IE13y5Dxa"
   },
   "outputs": [],
   "source": [
    "# Деление на обучающую и тестовую выборки\n",
    "X_train, X_test, y_train, y_test = train_test_split(X, y, test_size=0.2, random_state=42)\n",
    "\n"
   ]
  },
  {
   "cell_type": "code",
   "execution_count": null,
   "metadata": {
    "id": "6hQm8OV_5Foq"
   },
   "outputs": [],
   "source": [
    "# Векторизация CountVectorizer\n",
    "vectorizer_count = CountVectorizer(stop_words='english', max_features=10000)\n",
    "X_train_count = vectorizer_count.fit_transform(X_train)\n",
    "X_test_count = vectorizer_count.transform(X_test)\n"
   ]
  },
  {
   "cell_type": "code",
   "execution_count": null,
   "metadata": {
    "id": "aqLIhLst5IBJ"
   },
   "outputs": [],
   "source": [
    "# Векторизация TfidfVectorizer\n",
    "vectorizer_tfidf = TfidfVectorizer(stop_words='english', max_features=10000)\n",
    "X_train_tfidf = vectorizer_tfidf.fit_transform(X_train)\n",
    "X_test_tfidf = vectorizer_tfidf.transform(X_test)\n"
   ]
  },
  {
   "cell_type": "code",
   "execution_count": null,
   "metadata": {
    "id": "YiL5GArw5KIA"
   },
   "outputs": [],
   "source": [
    "# Классификация (SVC и LogisticRegression) для CountVectorizer\n",
    "models = {\n",
    "    \"SVC + CountVectorizer\": SVC(),\n",
    "    \"LogisticRegression + CountVectorizer\": LogisticRegression(max_iter=1000),\n",
    "    \"SVC + TfidfVectorizer\": SVC(),\n",
    "    \"LogisticRegression + TfidfVectorizer\": LogisticRegression(max_iter=1000)\n",
    "}\n",
    "\n",
    "results = {}"
   ]
  },
  {
   "cell_type": "code",
   "execution_count": null,
   "metadata": {
    "colab": {
     "base_uri": "https://localhost:8080/"
    },
    "id": "OcnLMbnp5Mxz",
    "outputId": "aadafb9b-eb5a-4ff1-e884-017ae29f9dcd"
   },
   "outputs": [
    {
     "name": "stdout",
     "output_type": "stream",
     "text": [
      "\n",
      "=== SVC + CountVectorizer ===\n",
      "Accuracy: 0.0894\n",
      "              precision    recall  f1-score   support\n",
      "\n",
      "           0       1.00      0.01      0.01       151\n",
      "           1       0.67      0.03      0.06       202\n",
      "           2       0.79      0.08      0.14       195\n",
      "           3       0.42      0.03      0.05       183\n",
      "           4       0.00      0.00      0.00       205\n",
      "           5       0.80      0.04      0.07       215\n",
      "           6       0.80      0.02      0.04       193\n",
      "           7       1.00      0.01      0.02       196\n",
      "           8       0.05      1.00      0.09       168\n",
      "           9       1.00      0.04      0.07       211\n",
      "          10       0.94      0.08      0.14       198\n",
      "          11       0.82      0.04      0.08       201\n",
      "          12       0.00      0.00      0.00       202\n",
      "          13       1.00      0.02      0.04       194\n",
      "          14       0.89      0.04      0.08       189\n",
      "          15       0.63      0.18      0.28       202\n",
      "          16       0.82      0.05      0.09       188\n",
      "          17       1.00      0.18      0.31       182\n",
      "          18       1.00      0.03      0.06       159\n",
      "          19       0.00      0.00      0.00       136\n",
      "\n",
      "    accuracy                           0.09      3770\n",
      "   macro avg       0.68      0.09      0.08      3770\n",
      "weighted avg       0.69      0.09      0.08      3770\n",
      "\n",
      "\n",
      "=== LogisticRegression + CountVectorizer ===\n",
      "Accuracy: 0.6668\n",
      "              precision    recall  f1-score   support\n",
      "\n",
      "           0       0.55      0.54      0.55       151\n",
      "           1       0.65      0.62      0.63       202\n",
      "           2       0.62      0.59      0.61       195\n",
      "           3       0.57      0.60      0.58       183\n",
      "           4       0.71      0.64      0.67       205\n",
      "           5       0.77      0.73      0.75       215\n",
      "           6       0.70      0.70      0.70       193\n",
      "           7       0.43      0.72      0.54       196\n",
      "           8       0.61      0.67      0.64       168\n",
      "           9       0.79      0.80      0.80       211\n",
      "          10       0.92      0.83      0.87       198\n",
      "          11       0.83      0.72      0.77       201\n",
      "          12       0.55      0.57      0.56       202\n",
      "          13       0.78      0.79      0.79       194\n",
      "          14       0.70      0.69      0.70       189\n",
      "          15       0.74      0.68      0.71       202\n",
      "          16       0.67      0.66      0.67       188\n",
      "          17       0.82      0.69      0.75       182\n",
      "          18       0.57      0.56      0.57       159\n",
      "          19       0.42      0.34      0.38       136\n",
      "\n",
      "    accuracy                           0.67      3770\n",
      "   macro avg       0.67      0.66      0.66      3770\n",
      "weighted avg       0.68      0.67      0.67      3770\n",
      "\n",
      "\n",
      "=== SVC + TfidfVectorizer ===\n",
      "Accuracy: 0.7156\n",
      "              precision    recall  f1-score   support\n",
      "\n",
      "           0       0.57      0.62      0.60       151\n",
      "           1       0.67      0.72      0.70       202\n",
      "           2       0.74      0.66      0.70       195\n",
      "           3       0.61      0.68      0.64       183\n",
      "           4       0.82      0.66      0.73       205\n",
      "           5       0.87      0.76      0.81       215\n",
      "           6       0.78      0.69      0.74       193\n",
      "           7       0.50      0.76      0.60       196\n",
      "           8       0.61      0.73      0.67       168\n",
      "           9       0.88      0.82      0.85       211\n",
      "          10       0.98      0.85      0.91       198\n",
      "          11       0.94      0.72      0.81       201\n",
      "          12       0.54      0.71      0.61       202\n",
      "          13       0.80      0.85      0.83       194\n",
      "          14       0.70      0.82      0.76       189\n",
      "          15       0.71      0.77      0.74       202\n",
      "          16       0.71      0.74      0.73       188\n",
      "          17       0.87      0.75      0.81       182\n",
      "          18       0.60      0.59      0.60       159\n",
      "          19       0.63      0.20      0.30       136\n",
      "\n",
      "    accuracy                           0.72      3770\n",
      "   macro avg       0.73      0.71      0.71      3770\n",
      "weighted avg       0.73      0.72      0.72      3770\n",
      "\n",
      "\n",
      "=== LogisticRegression + TfidfVectorizer ===\n",
      "Accuracy: 0.7172\n",
      "              precision    recall  f1-score   support\n",
      "\n",
      "           0       0.59      0.59      0.59       151\n",
      "           1       0.69      0.69      0.69       202\n",
      "           2       0.70      0.65      0.67       195\n",
      "           3       0.61      0.67      0.64       183\n",
      "           4       0.81      0.69      0.75       205\n",
      "           5       0.82      0.78      0.80       215\n",
      "           6       0.75      0.69      0.72       193\n",
      "           7       0.72      0.71      0.72       196\n",
      "           8       0.45      0.76      0.57       168\n",
      "           9       0.85      0.83      0.84       211\n",
      "          10       0.95      0.87      0.91       198\n",
      "          11       0.89      0.76      0.82       201\n",
      "          12       0.60      0.66      0.63       202\n",
      "          13       0.80      0.88      0.84       194\n",
      "          14       0.75      0.81      0.78       189\n",
      "          15       0.70      0.79      0.74       202\n",
      "          16       0.71      0.73      0.72       188\n",
      "          17       0.81      0.75      0.78       182\n",
      "          18       0.59      0.60      0.59       159\n",
      "          19       0.59      0.24      0.34       136\n",
      "\n",
      "    accuracy                           0.72      3770\n",
      "   macro avg       0.72      0.71      0.71      3770\n",
      "weighted avg       0.73      0.72      0.72      3770\n",
      "\n"
     ]
    }
   ],
   "source": [
    "# Обучение и оценка\n",
    "for name, model in models.items():\n",
    "    print(f\"\\n=== {name} ===\")\n",
    "    if \"Count\" in name:\n",
    "        model.fit(X_train_count, y_train)\n",
    "        preds = model.predict(X_test_count)\n",
    "    else:\n",
    "        model.fit(X_train_tfidf, y_train)\n",
    "        preds = model.predict(X_test_tfidf)\n",
    "    acc = accuracy_score(y_test, preds)\n",
    "    print(f\"Accuracy: {acc:.4f}\")\n",
    "    print(classification_report(y_test, preds, zero_division=0))\n",
    "    results[name] = acc\n"
   ]
  },
  {
   "cell_type": "code",
   "execution_count": null,
   "metadata": {
    "colab": {
     "base_uri": "https://localhost:8080/"
    },
    "id": "TZKTP46i5O3R",
    "outputId": "878f21bb-aa0d-4551-c706-8c1684672b1f"
   },
   "outputs": [
    {
     "name": "stdout",
     "output_type": "stream",
     "text": [
      "\n",
      "🏆 Лучшая модель: LogisticRegression + TfidfVectorizer с точностью 0.7172\n"
     ]
    }
   ],
   "source": [
    "\n",
    "# Вывод: какая комбинация дала лучшее качество\n",
    "best_model = max(results, key=results.get)\n",
    "print(f\"\\n🏆 Лучшая модель: {best_model} с точностью {results[best_model]:.4f}\")"
   ]
  },
  {
   "cell_type": "code",
   "execution_count": null,
   "metadata": {
    "id": "SUi3pdwM7y8Z"
   },
   "outputs": [],
   "source": [
    "import pandas as pd\n",
    "from sklearn.model_selection import train_test_split\n",
    "from sklearn.feature_extraction.text import CountVectorizer, TfidfVectorizer\n",
    "from sklearn.svm import SVC\n",
    "from sklearn.linear_model import LogisticRegression\n",
    "from sklearn.metrics import accuracy_score, classification_report\n",
    "import requests\n",
    "import zipfile\n",
    "import io\n"
   ]
  },
  {
   "cell_type": "code",
   "execution_count": null,
   "metadata": {
    "colab": {
     "base_uri": "https://localhost:8080/"
    },
    "id": "6KR2knWZ7vIc",
    "outputId": "a6430d1f-3721-4b27-bac4-099736e3a815"
   },
   "outputs": [
    {
     "name": "stdout",
     "output_type": "stream",
     "text": [
      "\n",
      "=== SVC + CountVectorizer ===\n",
      "Accuracy: 0.9857\n",
      "              precision    recall  f1-score   support\n",
      "\n",
      "           0       0.98      1.00      0.99       966\n",
      "           1       1.00      0.89      0.94       149\n",
      "\n",
      "    accuracy                           0.99      1115\n",
      "   macro avg       0.99      0.95      0.97      1115\n",
      "weighted avg       0.99      0.99      0.99      1115\n",
      "\n",
      "\n",
      "=== LogReg + CountVectorizer ===\n",
      "Accuracy: 0.9857\n",
      "              precision    recall  f1-score   support\n",
      "\n",
      "           0       0.98      1.00      0.99       966\n",
      "           1       1.00      0.89      0.94       149\n",
      "\n",
      "    accuracy                           0.99      1115\n",
      "   macro avg       0.99      0.95      0.97      1115\n",
      "weighted avg       0.99      0.99      0.99      1115\n",
      "\n",
      "\n",
      "=== SVC + TFIDFVectorizer ===\n",
      "Accuracy: 0.9848\n",
      "              precision    recall  f1-score   support\n",
      "\n",
      "           0       0.98      1.00      0.99       966\n",
      "           1       1.00      0.89      0.94       149\n",
      "\n",
      "    accuracy                           0.98      1115\n",
      "   macro avg       0.99      0.94      0.97      1115\n",
      "weighted avg       0.99      0.98      0.98      1115\n",
      "\n",
      "\n",
      "=== LogReg + TFIDFVectorizer ===\n",
      "Accuracy: 0.9695\n",
      "              precision    recall  f1-score   support\n",
      "\n",
      "           0       0.97      1.00      0.98       966\n",
      "           1       1.00      0.77      0.87       149\n",
      "\n",
      "    accuracy                           0.97      1115\n",
      "   macro avg       0.98      0.89      0.93      1115\n",
      "weighted avg       0.97      0.97      0.97      1115\n",
      "\n",
      "\n",
      "🏆 Лучшая модель: SVC + CountVectorizer с точностью 0.9857\n"
     ]
    }
   ],
   "source": [
    "url = \"https://archive.ics.uci.edu/ml/machine-learning-databases/00228/smsspamcollection.zip\"\n",
    "r = requests.get(url)\n",
    "z = zipfile.ZipFile(io.BytesIO(r.content))\n",
    "sms_data = pd.read_csv(z.open(\"SMSSpamCollection\"), sep='\\t', names=[\"label\", \"text\"])\n",
    "\n",
    "# Целевая переменная: 1 = spam, 0 = ham\n",
    "sms_data['target'] = sms_data['label'].map({'ham': 0, 'spam': 1})\n",
    "\n",
    "X = sms_data['text']\n",
    "y = sms_data['target']\n",
    "\n",
    "# Делим на обучающую и тестовую выборки\n",
    "X_train, X_test, y_train, y_test = train_test_split(X, y, test_size=0.2, random_state=42)\n",
    "\n",
    "# Векторизация: Count\n",
    "count_vectorizer = CountVectorizer(stop_words='english')\n",
    "X_train_count = count_vectorizer.fit_transform(X_train)\n",
    "X_test_count = count_vectorizer.transform(X_test)\n",
    "\n",
    "# Векторизация: TF-IDF\n",
    "tfidf_vectorizer = TfidfVectorizer(stop_words='english')\n",
    "X_train_tfidf = tfidf_vectorizer.fit_transform(X_train)\n",
    "X_test_tfidf = tfidf_vectorizer.transform(X_test)\n",
    "\n",
    "# Классификация (Count / TFIDF x SVC / LogisticRegression)\n",
    "models = {\n",
    "    \"SVC + CountVectorizer\": SVC(),\n",
    "    \"LogReg + CountVectorizer\": LogisticRegression(max_iter=1000),\n",
    "    \"SVC + TFIDFVectorizer\": SVC(),\n",
    "    \"LogReg + TFIDFVectorizer\": LogisticRegression(max_iter=1000)\n",
    "}\n",
    "\n",
    "results = {}\n",
    "\n",
    "for name, model in models.items():\n",
    "    print(f\"\\n=== {name} ===\")\n",
    "    if \"Count\" in name:\n",
    "        model.fit(X_train_count, y_train)\n",
    "        preds = model.predict(X_test_count)\n",
    "    else:\n",
    "        model.fit(X_train_tfidf, y_train)\n",
    "        preds = model.predict(X_test_tfidf)\n",
    "\n",
    "    acc = accuracy_score(y_test, preds)\n",
    "    print(f\"Accuracy: {acc:.4f}\")\n",
    "    print(classification_report(y_test, preds, zero_division=0))\n",
    "    results[name] = acc\n",
    "\n",
    "# 🏁 Лучшая комбинация\n",
    "best_model = max(results, key=results.get)\n",
    "print(f\"\\n🏆 Лучшая модель: {best_model} с точностью {results[best_model]:.4f}\")\n"
   ]
  }
 ],
 "metadata": {
  "colab": {
   "authorship_tag": "ABX9TyNMlNBumEit0wd2jCxRrGcd",
   "include_colab_link": true,
   "provenance": []
  },
  "kernelspec": {
   "display_name": "Python 3",
   "language": "python",
   "name": "python3"
  },
  "language_info": {
   "codemirror_mode": {
    "name": "ipython",
    "version": 3
   },
   "file_extension": ".py",
   "mimetype": "text/x-python",
   "name": "python",
   "nbconvert_exporter": "python",
   "pygments_lexer": "ipython3",
   "version": "3.7.6"
  }
 },
 "nbformat": 4,
 "nbformat_minor": 1
}
